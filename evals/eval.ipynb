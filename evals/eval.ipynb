{
 "cells": [
  {
   "cell_type": "code",
   "execution_count": null,
   "metadata": {},
   "outputs": [],
   "source": [
    "import tyro\n",
    "from pathlib import Path\n",
    "from entropix.config import MODEL_CONFIGS, create_model_params\n",
    "from entropix.weights import load_weights\n",
    "from entropix.sampler import EntropixSampler\n",
    "from evals.gpqa_eval import GPQAEval\n",
    "\n",
    "def main(\n",
    "    weights_path: Path = Path(\"weights/1B-Instruct\"),\n",
    "    variant: str = \"diamond\",\n",
    "    num_examples: int | None = None,  # For testing with fewer examples\n",
    "    n_repeats: int = 1,\n",
    "):\n",
    "    # 1. Setup model and sampler\n",
    "    model_params = create_model_params(MODEL_CONFIGS[\"1B\"])\n",
    "    xfmr_weights = load_weights(weights_path.absolute(), model_params=model_params)\n",
    "    \n",
    "    sampler = EntropixSampler(\n",
    "        xfmr_weights=xfmr_weights,\n",
    "        model_params=model_params,\n",
    "    )\n",
    "    \n",
    "    # 2. Create and run eval\n",
    "    evaluator = GPQAEval(\n",
    "        variant=variant,\n",
    "        num_examples=num_examples,\n",
    "        n_repeats=n_repeats\n",
    "    )\n",
    "    \n",
    "    # 3. Run evaluation\n",
    "    results = evaluator(sampler)\n",
    "    \n",
    "    # 4. Print results\n",
    "    print(f\"GPQA {variant} Results:\")\n",
    "    print(f\"Average Score: {results.score:.3f}\")\n",
    "    print(f\"Number of Examples: {len(evaluator.examples)}\")\n",
    "    print(\"\\nDetailed Metrics:\")\n",
    "    for metric, value in results.metrics.items():\n",
    "        print(f\"{metric}: {value}\")\n",
    "\n",
    "if __name__ == \"__main__\":\n",
    "    tyro.cli(main)"
   ]
  }
 ],
 "metadata": {
  "language_info": {
   "name": "python"
  }
 },
 "nbformat": 4,
 "nbformat_minor": 2
}
